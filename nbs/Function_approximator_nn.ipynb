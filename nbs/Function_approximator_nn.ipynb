{
  "nbformat": 4,
  "nbformat_minor": 0,
  "metadata": {
    "colab": {
      "name": "Function approximator nn.ipynb",
      "provenance": [],
      "collapsed_sections": []
    },
    "kernelspec": {
      "name": "python3",
      "display_name": "Python 3"
    },
    "language_info": {
      "name": "python"
    },
    "accelerator": "GPU"
  },
  "cells": [
    {
      "cell_type": "markdown",
      "source": [
        "# Neural Networks as Universal Function Approximators\n",
        "\n",
        "[The universal approximation theorem](https://en.wikipedia.org/wiki/Universal_approximation_theorem) states that a feed-forward neural network with a single hidden layer containing a finite number of neurons can approximate any continuous function (provided some assumptions on the activation function are met) to an arbitrary precision [1]. If the function jumps around or has large gaps, we won't be able to approximate it.\n",
        "\n",
        "\n",
        "We create an example neural network as a function approximator for a policy function, which solves a model equation. \n",
        "\n",
        "As a starting point we use our model to approximate \n",
        "\n",
        "$$f(x) = 0.2+0.4x^2 + 0.3x*sin(15x)+0.05*cos(50x)$$ \n",
        "\n",
        "in the interval $[0, 1]$ with a neural network having 1 hidden layers with 100 neurons.\n",
        "\n",
        "We  measure precisions uusing the mean squared error `log10`."
      ],
      "metadata": {
        "id": "Sbyz1aG9COyn"
      }
    },
    {
      "cell_type": "code",
      "source": [
        "import math\n",
        "import numpy as np\n",
        "\n",
        "import torch\n",
        "import torch.nn as nn\n",
        "import torch.optim as optim\n",
        "import torch.nn.functional as F\n",
        "\n",
        "import matplotlib.pyplot as plt\n",
        "\n",
        "\n",
        "def hidden_init(layer):\n",
        "    fan_in = layer.weight.data.size()[0]\n",
        "    lim = 1. / np.sqrt(fan_in)\n",
        "    return (0, lim)\n",
        "\n",
        "class neural_net(nn.Module):\n",
        "    \"\"\"Actor (Policy) Model.\"\"\"\n",
        "\n",
        "    def __init__(self, num_states, hidden_size, num_policies, dropout):\n",
        "        \"\"\"Initialize parameters and build model.\n",
        "\n",
        "        Params\n",
        "        ======\n",
        "            num_states (int): Number of states\n",
        "            num_policies (int): Number of policies\n",
        "            hidden_size (int): Number of nodes in first hidden layer, sequential ones will have proportionally less\n",
        "        \"\"\"\n",
        "        # Neural net has input, output, and two hidden layers\n",
        "        super(neural_net, self).__init__()\n",
        "        self.input_layer = nn.Linear(num_states, hidden_size)\n",
        " \n",
        "        self.dropout_layer = nn.Dropout(p=dropout)\n",
        "        self.output_layer = nn.Linear(hidden_size, num_policies)\n",
        "        self.cuda()\n",
        "\n",
        "    def forward(self, state):\n",
        "        x = F.relu(self.input_layer(state))\n",
        "        out = self.output_layer(x)\n",
        "        return out"
      ],
      "metadata": {
        "id": "TbhLR5XDCNcY"
      },
      "execution_count": 1,
      "outputs": []
    },
    {
      "cell_type": "code",
      "execution_count": 2,
      "metadata": {
        "id": "umRz2kI6CBBG"
      },
      "outputs": [],
      "source": [
        "device = \"cuda\"\n",
        "def ten(x): return torch.from_numpy(x).float().to(device)\n",
        "\n",
        "\n",
        "def numpize(cuda_tensor):\n",
        "    return cuda_tensor.cpu().detach().numpy()\n",
        "\n",
        "class approx():\n",
        "   \n",
        "  def __init__(self, grid, n_neurons:int=100, lr:float = 0.0005):\n",
        "      # self.grid_min =  1.07312 \n",
        "      # self.grid_max = 20.38941\n",
        "      self.grid = grid\n",
        "      self.n_neurons = n_neurons\n",
        "      self.grid = ten(grid).unsqueeze(1)\n",
        "      self.lr = lr\n",
        "\n",
        "      self.policy_net = neural_net(1, self.n_neurons, 1, 0.0001)\n",
        "      self.optimizer = optim.Adam(self.policy_net.parameters(), lr=lr)\n",
        "                  \n",
        "  def train(self):\n",
        "      policy = self.policy_net(self.grid)\n",
        "      criterion = torch.nn.MSELoss()\n",
        "      policy.cuda()\n",
        "\n",
        "      for episode in range(30000):\n",
        "          policy = self.policy_net(self.grid)\n",
        "\n",
        "          self.optimizer.zero_grad()\n",
        "          loss = criterion(policy, self.grid)\n",
        "          # loss = ((policy-self.grid)**2).mean()\n",
        "\n",
        "          if episode % 1000 == 0:\n",
        "              mean_loss = loss.squeeze().cpu().detach().item()\n",
        "              losslog10 = math.log10(math.sqrt(loss.squeeze().cpu().detach().item()))\n",
        "              print('episode {} -- loss : {:8.9f}-- losslog10 : {:8.6f}'.format(episode, mean_loss, losslog10))\n",
        "          loss.backward()\n",
        "          self.optimizer.step()\n",
        "      return numpize(policy.squeeze())"
      ]
    },
    {
      "cell_type": "code",
      "source": [
        "grid_min =  0 \n",
        "grid_max = 1\n",
        "x = np.linspace(grid_min,grid_max,1000)\n",
        "y = 0.2+0.4*x**2 + 0.3*x*np.sin(15*x)+0.05*np.cos(50*x)\n",
        "\n",
        "approxlin = approx(y, 10, 0.0005)\n",
        "h = approxlin.train()"
      ],
      "metadata": {
        "colab": {
          "base_uri": "https://localhost:8080/"
        },
        "id": "4eGeeCjyElyq",
        "outputId": "3ff4c9e5-fd55-41df-e944-cea3cb3d0eec"
      },
      "execution_count": 3,
      "outputs": [
        {
          "output_type": "stream",
          "name": "stdout",
          "text": [
            "episode 0 -- loss : 0.253625810-- losslog10 : -0.297903\n",
            "episode 1000 -- loss : 0.001647251-- losslog10 : -1.391620\n",
            "episode 2000 -- loss : 0.000007348-- losslog10 : -2.566914\n",
            "episode 3000 -- loss : 0.000000517-- losslog10 : -3.143333\n",
            "episode 4000 -- loss : 0.000000037-- losslog10 : -3.716396\n",
            "episode 5000 -- loss : 0.000000003-- losslog10 : -4.281625\n",
            "episode 6000 -- loss : 0.000000000-- losslog10 : -4.840607\n",
            "episode 7000 -- loss : 0.000000000-- losslog10 : -5.384723\n",
            "episode 8000 -- loss : 0.000000000-- losslog10 : -5.887729\n",
            "episode 9000 -- loss : 0.000000000-- losslog10 : -6.202014\n",
            "episode 10000 -- loss : 0.000000000-- losslog10 : -6.604547\n",
            "episode 11000 -- loss : 0.000000000-- losslog10 : -7.172984\n",
            "episode 12000 -- loss : 0.000000000-- losslog10 : -7.506167\n",
            "episode 13000 -- loss : 0.000000000-- losslog10 : -7.543414\n",
            "episode 14000 -- loss : 0.000000000-- losslog10 : -6.067981\n",
            "episode 15000 -- loss : 0.000000000-- losslog10 : -6.767457\n",
            "episode 16000 -- loss : 0.000000000-- losslog10 : -5.657800\n",
            "episode 17000 -- loss : 0.000000007-- losslog10 : -4.085302\n",
            "episode 18000 -- loss : 0.000000000-- losslog10 : -5.540075\n",
            "episode 19000 -- loss : 0.000000000-- losslog10 : -4.804468\n",
            "episode 20000 -- loss : 0.000000000-- losslog10 : -5.469721\n",
            "episode 21000 -- loss : 0.000000001-- losslog10 : -4.649644\n",
            "episode 22000 -- loss : 0.000000000-- losslog10 : -5.992559\n",
            "episode 23000 -- loss : 0.000000000-- losslog10 : -6.138912\n",
            "episode 24000 -- loss : 0.000000005-- losslog10 : -4.137189\n",
            "episode 25000 -- loss : 0.000000000-- losslog10 : -6.089004\n",
            "episode 26000 -- loss : 0.000000002-- losslog10 : -4.310606\n",
            "episode 27000 -- loss : 0.000000001-- losslog10 : -4.521656\n",
            "episode 28000 -- loss : 0.000000000-- losslog10 : -6.076522\n",
            "episode 29000 -- loss : 0.000000000-- losslog10 : -4.905564\n"
          ]
        }
      ]
    },
    {
      "cell_type": "code",
      "source": [
        "plt.plot(x,h)\n",
        "plt.scatter(x, h, color='red', s=10)"
      ],
      "metadata": {
        "colab": {
          "base_uri": "https://localhost:8080/",
          "height": 282
        },
        "id": "adjlFqLVGSx0",
        "outputId": "36839e24-3124-45a8-cccb-9a34f2121747"
      },
      "execution_count": 7,
      "outputs": [
        {
          "output_type": "execute_result",
          "data": {
            "text/plain": [
              "<matplotlib.collections.PathCollection at 0x7f495ed5c410>"
            ]
          },
          "metadata": {},
          "execution_count": 7
        },
        {
          "output_type": "display_data",
          "data": {
            "image/png": "[encoded data removed]",
            "text/plain": [
              "<Figure size 432x288 with 1 Axes>"
            ]
          },
          "metadata": {
            "needs_background": "light"
          }
        }
      ]
    },
    {
      "cell_type": "markdown",
      "source": [
        "#### References\n",
        "[1] Cybenko, G. (1989). \"Approximation by superpositions of a sigmoidal function\". Mathematics of Control, Signals, and Systems. 2 (4): 303–314. CiteSeerX 10.1.1.441.7873. doi:10.1007/BF02551274. S2CID 3958369"
      ],
      "metadata": {
        "id": "-xuCZ05VKLjU"
      }
    },
    {
      "cell_type": "code",
      "source": [
        ""
      ],
      "metadata": {
        "id": "eAYT1WKacgFK"
      },
      "execution_count": null,
      "outputs": []
    }
  ]
}
